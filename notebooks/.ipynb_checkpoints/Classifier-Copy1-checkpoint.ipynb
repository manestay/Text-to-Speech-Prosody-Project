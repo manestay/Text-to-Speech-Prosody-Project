{
 "cells": [
  {
   "cell_type": "code",
   "execution_count": 6,
   "metadata": {},
   "outputs": [],
   "source": [
    "features = [\n",
    "    'word',\n",
    "    'word_pos_tag',\n",
    "    'word_pos_tag_simplified',\n",
    "    'word_number_of_syllables',\n",
    "    'word_number_in_turn',\n",
    "    'word_number_in_task'\n",
    "]\n",
    "feat_indices = [18, 19, 20, 22, 12, 13]\n",
    "continuous_feats = [\n",
    "    'word_number_of_syllables',\n",
    "    'word_number_in_turn',\n",
    "    'word_number_in_task'\n",
    "]\n",
    "label_index = 27\n"
   ]
  },
  {
   "cell_type": "code",
   "execution_count": 7,
   "metadata": {},
   "outputs": [],
   "source": [
    "## Imports\n",
    "import csv\n",
    "import sys\n",
    "import numpy as np\n",
    "import pickle\n",
    "from time import time\n",
    "import re\n",
    "from sklearn.base import BaseEstimator, TransformerMixin\n",
    "from sklearn.feature_extraction import DictVectorizer\n",
    "from sklearn.feature_selection import SelectPercentile, SelectKBest\n",
    "from sklearn.linear_model import LogisticRegression\n",
    "from sklearn.naive_bayes import MultinomialNB\n",
    "from sklearn.svm import LinearSVC\n",
    "from sklearn.cross_validation import StratifiedKFold\n",
    "from sklearn.pipeline import Pipeline, FeatureUnion\n",
    "from sklearn.grid_search import GridSearchCV\n",
    "from sklearn import metrics\n",
    "import spacy\n",
    "nlp = spacy.load('en')"
   ]
  },
  {
   "cell_type": "code",
   "execution_count": 8,
   "metadata": {},
   "outputs": [
    {
     "name": "stdout",
     "output_type": "stream",
     "text": [
      "[{'word_pos_tag_simplified': 'V', 'word_number_of_syllables': 1.0, 'word': 'got', 'word_number_in_turn': 1.0, 'word_number_in_task': 2.0, 'word_pos_tag': 'VBD'}] [False]\n"
     ]
    }
   ],
   "source": [
    "## Read the file\n",
    "file_name = \"big-table-PoS.csv\"\n",
    "x_data = []\n",
    "y_data = []\n",
    "with open(file_name, 'r') as f:\n",
    "    for i, l in enumerate(csv.reader(f)):\n",
    "        if i == 0: continue\n",
    "        elif i == 2: print(x_data, y_data)\n",
    "        feats = {feat: l[i] for feat, i in zip(features,feat_indices)}\n",
    "        # convert some to continuous features\n",
    "        for feat in continuous_feats:\n",
    "            feats[feat] = float(feats[feat])\n",
    "        x_data.append(feats)\n",
    "        label = l[label_index] == \"4\" or l[label_index] == \"4-\" or l[label_index] == \"4p\"\n",
    "        y_data.append(label)"
   ]
  },
  {
   "cell_type": "code",
   "execution_count": 9,
   "metadata": {},
   "outputs": [],
   "source": [
    "best_score = 0\n",
    "best_model = None\n",
    "\n",
    "dict_vectorizer = DictVectorizer()\n",
    "select_percentile = SelectPercentile(percentile=100)\n",
    "clf_map = [\n",
    "    (\n",
    "        MultinomialNB(),\n",
    "        {\n",
    "            'clf__alpha': [.001, .01, .1, 1],\n",
    "            'clf__fit_prior': [True, False],\n",
    "        }\n",
    "    ),\n",
    "    (\n",
    "        LinearSVC(),\n",
    "        {\n",
    "            'clf__C': [1, 10, 100],\n",
    "            'clf__penalty': ['l2'],\n",
    "            'clf__loss': ['hinge', 'squared_hinge'],\n",
    "        }\n",
    "    ),\n",
    "    (\n",
    "        LogisticRegression(),\n",
    "        {\n",
    "            'clf__penalty': ['l1','l2'],\n",
    "            'clf__fit_intercept': [True, False],\n",
    "            'clf__C':[1, 10, 100],\n",
    "        }\n",
    "    ),\n",
    "\n",
    "]\n",
    "\n",
    "def classify_my_model(clf, param_grid, model_name):\n",
    "    global best_score, best_model\n",
    "    print('###################################',type(clf),'#########################################')\n",
    "    folds = StratifiedKFold(y_data, n_folds=3, shuffle=True, random_state=int(time()))\n",
    "    pipeline = Pipeline([\n",
    "        ('dictvec', dict_vectorizer),\n",
    "        ('selector', select_percentile),\n",
    "        ('clf', clf)\n",
    "    ])\n",
    "    param_grid['selector__percentile'] = [90, 95, 100]\n",
    "\n",
    "    gs = GridSearchCV(pipeline,\n",
    "                      param_grid,\n",
    "                      scoring='f1',\n",
    "                      cv=folds,\n",
    "                      n_jobs=-1,\n",
    "                      verbose=1)\n",
    "    t0 = time()\n",
    "    gs.fit(x_data, y_data)\n",
    "    train_time = time() - t0\n",
    "    print(\"Train time: %0.3fs\" % train_time)\n",
    "#     print(\"Real train time: %0.3fs\" % (train_time * (TOTAL_COUNT/DEV_COUNT)))\n",
    "    print(\"Best score: %0.3f\" % gs.best_score_)\n",
    "    best_params = gs.best_estimator_.get_params()\n",
    "    for param_name in sorted(param_grid.keys()):\n",
    "        print(\"\\t%s: %r\" % (param_name, best_params[param_name]))\n",
    "    best_score = gs.best_score_\n",
    "    best_model = gs.best_estimator_\n",
    "    with open(model_name+'_best_'+type(clf).__name__+\".pkl\", 'wb') as handle:\n",
    "        pickle.dump(best_model, handle)"
   ]
  },
  {
   "cell_type": "code",
   "execution_count": 48,
   "metadata": {
    "scrolled": false
   },
   "outputs": [
    {
     "name": "stdout",
     "output_type": "stream",
     "text": [
      "################################### <class 'sklearn.naive_bayes.MultinomialNB'> #########################################\n",
      "Fitting 3 folds for each of 24 candidates, totalling 72 fits\n"
     ]
    },
    {
     "name": "stderr",
     "output_type": "stream",
     "text": [
      "[Parallel(n_jobs=-1)]: Done  42 tasks      | elapsed:  1.3min\n",
      "[Parallel(n_jobs=-1)]: Done  72 out of  72 | elapsed:  2.3min finished\n"
     ]
    },
    {
     "name": "stdout",
     "output_type": "stream",
     "text": [
      "Train time: 136.478s\n",
      "Best score: 0.628\n",
      "\tclf__alpha: 0.001\n",
      "\tclf__fit_prior: False\n",
      "\tselector__percentile: 95\n",
      "################################### <class 'sklearn.svm.classes.LinearSVC'> #########################################\n",
      "Fitting 3 folds for each of 18 candidates, totalling 54 fits\n"
     ]
    },
    {
     "name": "stderr",
     "output_type": "stream",
     "text": [
      "[Parallel(n_jobs=-1)]: Done  42 tasks      | elapsed:  2.8min\n",
      "[Parallel(n_jobs=-1)]: Done  54 out of  54 | elapsed:  3.5min finished\n"
     ]
    },
    {
     "name": "stdout",
     "output_type": "stream",
     "text": [
      "Train time: 219.432s\n",
      "Best score: 0.628\n",
      "\tclf__C: 1\n",
      "\tclf__loss: 'squared_hinge'\n",
      "\tclf__penalty: 'l2'\n",
      "\tselector__percentile: 95\n",
      "################################### <class 'sklearn.linear_model.logistic.LogisticRegression'> #########################################\n",
      "Fitting 3 folds for each of 36 candidates, totalling 108 fits\n"
     ]
    },
    {
     "name": "stderr",
     "output_type": "stream",
     "text": [
      "[Parallel(n_jobs=-1)]: Done  42 tasks      | elapsed:  1.4min\n",
      "[Parallel(n_jobs=-1)]: Done 108 out of 108 | elapsed:  3.7min finished\n"
     ]
    },
    {
     "name": "stdout",
     "output_type": "stream",
     "text": [
      "Train time: 222.335s\n",
      "Best score: 0.649\n",
      "\tclf__C: 100\n",
      "\tclf__fit_intercept: True\n",
      "\tclf__penalty: 'l1'\n",
      "\tselector__percentile: 95\n"
     ]
    }
   ],
   "source": [
    "for (clf, param_grid) in clf_map:\n",
    "    classify_my_model(clf, param_grid)"
   ]
  },
  {
   "cell_type": "code",
   "execution_count": 15,
   "metadata": {},
   "outputs": [],
   "source": [
    "continuous_feats = [\n",
    "    'word_number_of_syllables'\n",
    "]\n",
    "## Read the file\n",
    "file_name = \"big-table-PoS.csv\"\n",
    "x_data = []\n",
    "y_data = []\n",
    "with open(file_name, 'r') as f:\n",
    "    for i, l in enumerate(csv.reader(f)):\n",
    "        if i == 0: continue\n",
    "        feats = {feat: l[i] for feat, i in zip(features,feat_indices)}\n",
    "        # convert some to continuous features\n",
    "        for feat in continuous_feats:\n",
    "            feats[feat] = float(feats[feat])\n",
    "        x_data.append(feats)\n",
    "        label = l[label_index] == \"4\" or l[label_index] == \"4-\" or l[label_index] == \"4p\"\n",
    "        y_data.append(label)"
   ]
  },
  {
   "cell_type": "code",
   "execution_count": 50,
   "metadata": {},
   "outputs": [
    {
     "name": "stdout",
     "output_type": "stream",
     "text": [
      "################################### <class 'sklearn.naive_bayes.MultinomialNB'> #########################################\n",
      "Fitting 3 folds for each of 24 candidates, totalling 72 fits\n"
     ]
    },
    {
     "name": "stderr",
     "output_type": "stream",
     "text": [
      "[Parallel(n_jobs=-1)]: Done  42 tasks      | elapsed:  1.2min\n",
      "[Parallel(n_jobs=-1)]: Done  72 out of  72 | elapsed:  2.2min finished\n"
     ]
    },
    {
     "name": "stdout",
     "output_type": "stream",
     "text": [
      "Train time: 130.838s\n",
      "Best score: 0.656\n",
      "\tclf__alpha: 0.1\n",
      "\tclf__fit_prior: False\n",
      "\tselector__percentile: 100\n",
      "################################### <class 'sklearn.svm.classes.LinearSVC'> #########################################\n",
      "Fitting 3 folds for each of 18 candidates, totalling 54 fits\n"
     ]
    },
    {
     "name": "stderr",
     "output_type": "stream",
     "text": [
      "[Parallel(n_jobs=-1)]: Done  42 tasks      | elapsed:  1.8min\n",
      "[Parallel(n_jobs=-1)]: Done  54 out of  54 | elapsed:  2.3min finished\n"
     ]
    },
    {
     "name": "stdout",
     "output_type": "stream",
     "text": [
      "Train time: 143.269s\n",
      "Best score: 0.669\n",
      "\tclf__C: 1\n",
      "\tclf__loss: 'squared_hinge'\n",
      "\tclf__penalty: 'l2'\n",
      "\tselector__percentile: 90\n",
      "################################### <class 'sklearn.linear_model.logistic.LogisticRegression'> #########################################\n",
      "Fitting 3 folds for each of 36 candidates, totalling 108 fits\n"
     ]
    },
    {
     "name": "stderr",
     "output_type": "stream",
     "text": [
      "[Parallel(n_jobs=-1)]: Done  42 tasks      | elapsed:  1.6min\n",
      "[Parallel(n_jobs=-1)]: Done 108 out of 108 | elapsed:  4.1min finished\n"
     ]
    },
    {
     "name": "stdout",
     "output_type": "stream",
     "text": [
      "Train time: 246.430s\n",
      "Best score: 0.675\n",
      "\tclf__C: 10\n",
      "\tclf__fit_intercept: True\n",
      "\tclf__penalty: 'l2'\n",
      "\tselector__percentile: 100\n"
     ]
    }
   ],
   "source": [
    "for (clf, param_grid) in clf_map:\n",
    "    classify_my_model(clf, param_grid)"
   ]
  },
  {
   "cell_type": "code",
   "execution_count": 51,
   "metadata": {},
   "outputs": [
    {
     "name": "stdout",
     "output_type": "stream",
     "text": [
      "[{'word_pos_tag_simplified': 'V', 'word_pos_tag': 'VBD', 'word': 'got'}] [False]\n"
     ]
    }
   ],
   "source": [
    "features = [\n",
    "    'word',\n",
    "    'word_pos_tag',\n",
    "    'word_pos_tag_simplified'\n",
    "]\n",
    "feat_indices = [18, 19, 20]\n",
    "continuous_feats = []\n",
    "## Read the file\n",
    "file_name = \"big-table-PoS.csv\"\n",
    "x_data = []\n",
    "y_data = []\n",
    "with open(file_name, 'r') as f:\n",
    "    for i, l in enumerate(csv.reader(f)):\n",
    "        if i == 0: continue\n",
    "        elif i == 2: print x_data, y_data\n",
    "        feats = {feat: l[i] for feat, i in zip(features,feat_indices)}\n",
    "        # convert some to continuous features\n",
    "        for feat in continuous_feats:\n",
    "            feats[feat] = float(feats[feat])\n",
    "        x_data.append(feats)\n",
    "        label = l[label_index] == \"4\" or l[label_index] == \"4-\" or l[label_index] == \"4p\"\n",
    "        y_data.append(label)"
   ]
  },
  {
   "cell_type": "code",
   "execution_count": 52,
   "metadata": {},
   "outputs": [
    {
     "name": "stdout",
     "output_type": "stream",
     "text": [
      "################################### <class 'sklearn.naive_bayes.MultinomialNB'> #########################################\n",
      "Fitting 3 folds for each of 24 candidates, totalling 72 fits\n"
     ]
    },
    {
     "name": "stderr",
     "output_type": "stream",
     "text": [
      "[Parallel(n_jobs=-1)]: Done  42 tasks      | elapsed:   42.9s\n",
      "[Parallel(n_jobs=-1)]: Done  72 out of  72 | elapsed:  1.2min finished\n"
     ]
    },
    {
     "name": "stdout",
     "output_type": "stream",
     "text": [
      "Train time: 73.609s\n",
      "Best score: 0.638\n",
      "\tclf__alpha: 0.01\n",
      "\tclf__fit_prior: False\n",
      "\tselector__percentile: 100\n",
      "################################### <class 'sklearn.svm.classes.LinearSVC'> #########################################\n",
      "Fitting 3 folds for each of 18 candidates, totalling 54 fits\n"
     ]
    },
    {
     "name": "stderr",
     "output_type": "stream",
     "text": [
      "[Parallel(n_jobs=-1)]: Done  42 tasks      | elapsed:  1.1min\n",
      "[Parallel(n_jobs=-1)]: Done  54 out of  54 | elapsed:  1.4min finished\n"
     ]
    },
    {
     "name": "stdout",
     "output_type": "stream",
     "text": [
      "Train time: 86.616s\n",
      "Best score: 0.616\n",
      "\tclf__C: 1\n",
      "\tclf__loss: 'squared_hinge'\n",
      "\tclf__penalty: 'l2'\n",
      "\tselector__percentile: 100\n",
      "################################### <class 'sklearn.linear_model.logistic.LogisticRegression'> #########################################\n",
      "Fitting 3 folds for each of 36 candidates, totalling 108 fits\n"
     ]
    },
    {
     "name": "stderr",
     "output_type": "stream",
     "text": [
      "[Parallel(n_jobs=-1)]: Done  42 tasks      | elapsed:   52.4s\n",
      "[Parallel(n_jobs=-1)]: Done 108 out of 108 | elapsed:  2.2min finished\n"
     ]
    },
    {
     "name": "stdout",
     "output_type": "stream",
     "text": [
      "Train time: 134.426s\n",
      "Best score: 0.614\n",
      "\tclf__C: 10\n",
      "\tclf__fit_intercept: False\n",
      "\tclf__penalty: 'l2'\n",
      "\tselector__percentile: 100\n"
     ]
    }
   ],
   "source": [
    "for (clf, param_grid) in clf_map:\n",
    "    classify_my_model(clf, param_grid)"
   ]
  },
  {
   "cell_type": "code",
   "execution_count": 5,
   "metadata": {},
   "outputs": [
    {
     "name": "stdout",
     "output_type": "stream",
     "text": [
      "[{'word_pos_tag_simplified': 'V', 'word_pos_tag': 'VBD', 'word': 'got', 'word_number_of_syllables': 1.0, 'word_number_in_ipu': 1.0}] [False]\n"
     ]
    }
   ],
   "source": [
    "features = [\n",
    "    'word',\n",
    "    'word_pos_tag',\n",
    "    'word_pos_tag_simplified',\n",
    "    'word_number_of_syllables',\n",
    "    'word_number_in_ipu',\n",
    "]\n",
    "feat_indices = [18, 19, 20, 22, 11]\n",
    "continuous_feats = [\n",
    "    'word_number_of_syllables',\n",
    "    'word_number_in_ipu',\n",
    "]\n",
    "## Read the file\n",
    "file_name = \"big-table-PoS.csv\"\n",
    "x_data = []\n",
    "y_data = []\n",
    "with open(file_name, 'r') as f:\n",
    "    for i, l in enumerate(csv.reader(f)):\n",
    "        if i == 0: continue\n",
    "        elif i == 2: print x_data, y_data\n",
    "        feats = {feat: l[i] for feat, i in zip(features,feat_indices)}\n",
    "        # convert some to continuous features\n",
    "        for feat in continuous_feats:\n",
    "            feats[feat] = float(feats[feat])\n",
    "        x_data.append(feats)\n",
    "        label = l[label_index] == \"4\" or l[label_index] == \"4-\" or l[label_index] == \"4p\"\n",
    "        y_data.append(label)"
   ]
  },
  {
   "cell_type": "code",
   "execution_count": 6,
   "metadata": {},
   "outputs": [
    {
     "name": "stdout",
     "output_type": "stream",
     "text": [
      "################################### <class 'sklearn.naive_bayes.MultinomialNB'> #########################################\n",
      "Fitting 3 folds for each of 24 candidates, totalling 72 fits\n"
     ]
    },
    {
     "name": "stderr",
     "output_type": "stream",
     "text": [
      "[Parallel(n_jobs=-1)]: Done  42 tasks      | elapsed:  2.3min\n",
      "[Parallel(n_jobs=-1)]: Done  72 out of  72 | elapsed:  4.7min finished\n"
     ]
    },
    {
     "name": "stdout",
     "output_type": "stream",
     "text": [
      "Train time: 284.602s\n",
      "Best score: 0.637\n",
      "\tclf__alpha: 0.1\n",
      "\tclf__fit_prior: False\n",
      "\tselector__percentile: 90\n",
      "################################### <class 'sklearn.svm.classes.LinearSVC'> #########################################\n",
      "Fitting 3 folds for each of 18 candidates, totalling 54 fits\n"
     ]
    },
    {
     "name": "stderr",
     "output_type": "stream",
     "text": [
      "[Parallel(n_jobs=-1)]: Done  42 tasks      | elapsed: 11.7min\n",
      "[Parallel(n_jobs=-1)]: Done  54 out of  54 | elapsed: 14.5min finished\n"
     ]
    },
    {
     "name": "stdout",
     "output_type": "stream",
     "text": [
      "Train time: 918.365s\n",
      "Best score: 0.614\n",
      "\tclf__C: 1\n",
      "\tclf__loss: 'squared_hinge'\n",
      "\tclf__penalty: 'l2'\n",
      "\tselector__percentile: 95\n",
      "################################### <class 'sklearn.linear_model.logistic.LogisticRegression'> #########################################\n",
      "Fitting 3 folds for each of 36 candidates, totalling 108 fits\n"
     ]
    },
    {
     "name": "stderr",
     "output_type": "stream",
     "text": [
      "[Parallel(n_jobs=-1)]: Done  42 tasks      | elapsed:  7.8min\n",
      "[Parallel(n_jobs=-1)]: Done 108 out of 108 | elapsed: 18.8min finished\n"
     ]
    },
    {
     "name": "stdout",
     "output_type": "stream",
     "text": [
      "Train time: 1136.691s\n",
      "Best score: 0.616\n",
      "\tclf__C: 10\n",
      "\tclf__fit_intercept: False\n",
      "\tclf__penalty: 'l2'\n",
      "\tselector__percentile: 100\n"
     ]
    }
   ],
   "source": [
    "for (clf, param_grid) in clf_map:\n",
    "    classify_my_model(clf, param_grid)"
   ]
  },
  {
   "cell_type": "code",
   "execution_count": 7,
   "metadata": {},
   "outputs": [
    {
     "name": "stdout",
     "output_type": "stream",
     "text": [
      "[{'word_pos_tag_simplified': 'V', 'word_pos_tag': 'VBD', 'word': 'got', 'word_number_of_syllables': 1.0, 'word_number_in_ipu': '1'}] [False]\n"
     ]
    }
   ],
   "source": [
    "features = [\n",
    "    'word',\n",
    "    'word_pos_tag',\n",
    "    'word_pos_tag_simplified',\n",
    "    'word_number_of_syllables',\n",
    "    'word_number_in_ipu',\n",
    "]\n",
    "feat_indices = [18, 19, 20, 22, 11]\n",
    "continuous_feats = [\n",
    "    'word_number_of_syllables',\n",
    "]\n",
    "## Read the file\n",
    "file_name = \"big-table-PoS.csv\"\n",
    "x_data = []\n",
    "y_data = []\n",
    "with open(file_name, 'r') as f:\n",
    "    for i, l in enumerate(csv.reader(f)):\n",
    "        if i == 0: continue\n",
    "        elif i == 2: print x_data, y_data\n",
    "        feats = {feat: l[i] for feat, i in zip(features,feat_indices)}\n",
    "        # convert some to continuous features\n",
    "        for feat in continuous_feats:\n",
    "            feats[feat] = float(feats[feat])\n",
    "        x_data.append(feats)\n",
    "        label = l[label_index] == \"4\" or l[label_index] == \"4-\" or l[label_index] == \"4p\"\n",
    "        y_data.append(label)"
   ]
  },
  {
   "cell_type": "code",
   "execution_count": 8,
   "metadata": {},
   "outputs": [
    {
     "name": "stdout",
     "output_type": "stream",
     "text": [
      "################################### <class 'sklearn.naive_bayes.MultinomialNB'> #########################################\n",
      "Fitting 3 folds for each of 24 candidates, totalling 72 fits\n"
     ]
    },
    {
     "name": "stderr",
     "output_type": "stream",
     "text": [
      "[Parallel(n_jobs=-1)]: Done  42 tasks      | elapsed:  1.1min\n",
      "[Parallel(n_jobs=-1)]: Done  72 out of  72 | elapsed:  1.9min finished\n"
     ]
    },
    {
     "name": "stdout",
     "output_type": "stream",
     "text": [
      "Train time: 111.702s\n",
      "Best score: 0.633\n",
      "\tclf__alpha: 0.01\n",
      "\tclf__fit_prior: False\n",
      "\tselector__percentile: 95\n",
      "################################### <class 'sklearn.svm.classes.LinearSVC'> #########################################\n",
      "Fitting 3 folds for each of 18 candidates, totalling 54 fits\n"
     ]
    },
    {
     "name": "stderr",
     "output_type": "stream",
     "text": [
      "[Parallel(n_jobs=-1)]: Done  42 tasks      | elapsed:  1.8min\n",
      "[Parallel(n_jobs=-1)]: Done  54 out of  54 | elapsed:  2.3min finished\n"
     ]
    },
    {
     "name": "stdout",
     "output_type": "stream",
     "text": [
      "Train time: 145.471s\n",
      "Best score: 0.620\n",
      "\tclf__C: 100\n",
      "\tclf__loss: 'squared_hinge'\n",
      "\tclf__penalty: 'l2'\n",
      "\tselector__percentile: 95\n",
      "################################### <class 'sklearn.linear_model.logistic.LogisticRegression'> #########################################\n",
      "Fitting 3 folds for each of 36 candidates, totalling 108 fits\n"
     ]
    },
    {
     "name": "stderr",
     "output_type": "stream",
     "text": [
      "[Parallel(n_jobs=-1)]: Done  42 tasks      | elapsed:  1.3min\n",
      "[Parallel(n_jobs=-1)]: Done 108 out of 108 | elapsed:  3.5min finished\n"
     ]
    },
    {
     "name": "stdout",
     "output_type": "stream",
     "text": [
      "Train time: 208.485s\n",
      "Best score: 0.617\n",
      "\tclf__C: 10\n",
      "\tclf__fit_intercept: False\n",
      "\tclf__penalty: 'l2'\n",
      "\tselector__percentile: 95\n"
     ]
    }
   ],
   "source": [
    "for (clf, param_grid) in clf_map:\n",
    "    classify_my_model(clf, param_grid)"
   ]
  },
  {
   "cell_type": "code",
   "execution_count": 9,
   "metadata": {},
   "outputs": [
    {
     "name": "stdout",
     "output_type": "stream",
     "text": [
      "[{'word_pos_tag_simplified': 'V', 'word_pos_tag': 'VBD', 'word': 'got', 'word_number_of_syllables': 1.0}] [False]\n"
     ]
    }
   ],
   "source": [
    "features = [\n",
    "    'word',\n",
    "    'word_pos_tag',\n",
    "    'word_pos_tag_simplified',\n",
    "    'word_number_of_syllables',\n",
    "]\n",
    "feat_indices = [18, 19, 20, 22]\n",
    "continuous_feats = [\n",
    "    'word_number_of_syllables',\n",
    "]\n",
    "## Read the file\n",
    "file_name = \"big-table-PoS.csv\"\n",
    "x_data = []\n",
    "y_data = []\n",
    "with open(file_name, 'r') as f:\n",
    "    for i, l in enumerate(csv.reader(f)):\n",
    "        if i == 0: continue\n",
    "        elif i == 2: print x_data, y_data\n",
    "        feats = {feat: l[i] for feat, i in zip(features,feat_indices)}\n",
    "        # convert some to continuous features\n",
    "        for feat in continuous_feats:\n",
    "            feats[feat] = float(feats[feat])\n",
    "        x_data.append(feats)\n",
    "        label = l[label_index] == \"4\" or l[label_index] == \"4-\" or l[label_index] == \"4p\"\n",
    "        y_data.append(label)"
   ]
  },
  {
   "cell_type": "code",
   "execution_count": 10,
   "metadata": {},
   "outputs": [
    {
     "name": "stdout",
     "output_type": "stream",
     "text": [
      "################################### <class 'sklearn.naive_bayes.MultinomialNB'> #########################################\n",
      "Fitting 3 folds for each of 24 candidates, totalling 72 fits\n"
     ]
    },
    {
     "name": "stderr",
     "output_type": "stream",
     "text": [
      "[Parallel(n_jobs=-1)]: Done  42 tasks      | elapsed:   59.1s\n",
      "[Parallel(n_jobs=-1)]: Done  72 out of  72 | elapsed:  1.7min finished\n"
     ]
    },
    {
     "name": "stdout",
     "output_type": "stream",
     "text": [
      "Train time: 100.323s\n",
      "Best score: 0.635\n",
      "\tclf__alpha: 0.1\n",
      "\tclf__fit_prior: False\n",
      "\tselector__percentile: 100\n",
      "################################### <class 'sklearn.svm.classes.LinearSVC'> #########################################\n",
      "Fitting 3 folds for each of 18 candidates, totalling 54 fits\n"
     ]
    },
    {
     "name": "stderr",
     "output_type": "stream",
     "text": [
      "[Parallel(n_jobs=-1)]: Done  42 tasks      | elapsed:  1.8min\n",
      "[Parallel(n_jobs=-1)]: Done  54 out of  54 | elapsed:  2.4min finished\n"
     ]
    },
    {
     "name": "stdout",
     "output_type": "stream",
     "text": [
      "Train time: 154.180s\n",
      "Best score: 0.623\n",
      "\tclf__C: 100\n",
      "\tclf__loss: 'squared_hinge'\n",
      "\tclf__penalty: 'l2'\n",
      "\tselector__percentile: 95\n",
      "################################### <class 'sklearn.linear_model.logistic.LogisticRegression'> #########################################\n",
      "Fitting 3 folds for each of 36 candidates, totalling 108 fits\n"
     ]
    },
    {
     "name": "stderr",
     "output_type": "stream",
     "text": [
      "[Parallel(n_jobs=-1)]: Done  42 tasks      | elapsed:  1.5min\n",
      "[Parallel(n_jobs=-1)]: Done 108 out of 108 | elapsed:  3.6min finished\n"
     ]
    },
    {
     "name": "stdout",
     "output_type": "stream",
     "text": [
      "Train time: 214.841s\n",
      "Best score: 0.619\n",
      "\tclf__C: 10\n",
      "\tclf__fit_intercept: False\n",
      "\tclf__penalty: 'l2'\n",
      "\tselector__percentile: 100\n"
     ]
    }
   ],
   "source": [
    "for (clf, param_grid) in clf_map:\n",
    "    classify_my_model(clf, param_grid)"
   ]
  },
  {
   "cell_type": "markdown",
   "metadata": {},
   "source": [
    "# Adding POS features"
   ]
  },
  {
   "cell_type": "code",
   "execution_count": 10,
   "metadata": {},
   "outputs": [],
   "source": [
    "# Best one was LogReg with only num of syllables as a continuous feature\n",
    "features = [\n",
    "    'word',\n",
    "    'word_pos_tag',\n",
    "    'word_pos_tag_simplified',\n",
    "    'word_number_of_syllables',\n",
    "    'word_number_in_turn',\n",
    "    'word_number_in_task',\n",
    "    'total_number_of_words_in_turn',\n",
    "    'total_number_of_words_in_task'\n",
    "]\n",
    "feat_indices = [18, 19, 20, 22, 11, 12, 14, 15]\n",
    "label_index = 27\n",
    "continuous_feats = [\n",
    "    'word_number_of_syllables'\n",
    "]\n",
    "## Read the file\n",
    "file_name = \"big-table-PoS.csv\"\n",
    "x_data = []\n",
    "y_data = []\n",
    "labels = []\n",
    "with open(file_name, 'r') as f:\n",
    "    for i, l in enumerate(csv.reader(f)):\n",
    "        if i == 0: continue\n",
    "#         elif i == 2: print x_data, y_data\n",
    "        feats = {feat: l[i] for feat, i in zip(features,feat_indices)}\n",
    "        # convert some to continuous features\n",
    "        for feat in continuous_feats:\n",
    "            feats[feat] = float(feats[feat])\n",
    "        x_data.append(feats)\n",
    "        label = l[label_index] == \"4\" or l[label_index] == \"4-\" or l[label_index] == \"4p\"\n",
    "        y_data.append(label)\n",
    "        labels.append(l[label_index])"
   ]
  },
  {
   "cell_type": "code",
   "execution_count": 11,
   "metadata": {},
   "outputs": [],
   "source": [
    "# distance from end of ipu and turn\n",
    "DIST_END_TURN = \"DIST_END_TURN\"\n",
    "for i in range(len(x_data)):\n",
    "    x_data[i][DIST_END_TURN] = int(x_data[i]['total_number_of_words_in_turn']) - int(x_data[i]['word_number_in_turn'])"
   ]
  },
  {
   "cell_type": "markdown",
   "metadata": {},
   "source": [
    "## POS Bigram, segmented by IPU (don't use this, since we're not given IPU information from text)"
   ]
  },
  {
   "cell_type": "code",
   "execution_count": 5,
   "metadata": {},
   "outputs": [
    {
     "ename": "KeyError",
     "evalue": "'word_number_in_ipu'",
     "output_type": "error",
     "traceback": [
      "\u001b[0;31m---------------------------------------------------------------------------\u001b[0m",
      "\u001b[0;31mKeyError\u001b[0m                                  Traceback (most recent call last)",
      "\u001b[0;32m<ipython-input-5-3b575e24d6a7>\u001b[0m in \u001b[0;36m<module>\u001b[0;34m()\u001b[0m\n\u001b[1;32m      3\u001b[0m \u001b[0;32mfor\u001b[0m \u001b[0mi\u001b[0m \u001b[0;32min\u001b[0m \u001b[0mrange\u001b[0m\u001b[0;34m(\u001b[0m\u001b[0mlen\u001b[0m\u001b[0;34m(\u001b[0m\u001b[0mx_data\u001b[0m\u001b[0;34m)\u001b[0m\u001b[0;34m)\u001b[0m\u001b[0;34m:\u001b[0m\u001b[0;34m\u001b[0m\u001b[0m\n\u001b[1;32m      4\u001b[0m     \u001b[0;31m# to the left\u001b[0m\u001b[0;34m\u001b[0m\u001b[0;34m\u001b[0m\u001b[0m\n\u001b[0;32m----> 5\u001b[0;31m     \u001b[0;32mif\u001b[0m \u001b[0mx_data\u001b[0m\u001b[0;34m[\u001b[0m\u001b[0mi\u001b[0m\u001b[0;34m]\u001b[0m\u001b[0;34m[\u001b[0m\u001b[0;34m'word_number_in_ipu'\u001b[0m\u001b[0;34m]\u001b[0m \u001b[0;34m==\u001b[0m \u001b[0;34m'1'\u001b[0m\u001b[0;34m:\u001b[0m\u001b[0;34m\u001b[0m\u001b[0m\n\u001b[0m\u001b[1;32m      6\u001b[0m         \u001b[0mx_data\u001b[0m\u001b[0;34m[\u001b[0m\u001b[0mi\u001b[0m\u001b[0;34m]\u001b[0m\u001b[0;34m[\u001b[0m\u001b[0mPOS_IPU_BIGRAM_LEFT\u001b[0m\u001b[0;34m]\u001b[0m \u001b[0;34m=\u001b[0m \u001b[0;34m'BEGIN/'\u001b[0m\u001b[0;34m+\u001b[0m\u001b[0mx_data\u001b[0m\u001b[0;34m[\u001b[0m\u001b[0mi\u001b[0m\u001b[0;34m]\u001b[0m\u001b[0;34m[\u001b[0m\u001b[0;34m'word_pos_tag'\u001b[0m\u001b[0;34m]\u001b[0m\u001b[0;34m\u001b[0m\u001b[0m\n\u001b[1;32m      7\u001b[0m     \u001b[0;32melse\u001b[0m\u001b[0;34m:\u001b[0m\u001b[0;34m\u001b[0m\u001b[0m\n",
      "\u001b[0;31mKeyError\u001b[0m: 'word_number_in_ipu'"
     ]
    }
   ],
   "source": [
    "POS_IPU_BIGRAM_LEFT = \"POS_IPU_BIGRAM_LEFT\"\n",
    "POS_IPU_BIGRAM_RIGHT = \"POS_IPU_BIGRAM_RIGHT\"\n",
    "for i in range(len(x_data)):\n",
    "    # to the left\n",
    "    if x_data[i]['word_number_in_ipu'] == '1':\n",
    "        x_data[i][POS_IPU_BIGRAM_LEFT] = 'BEGIN/'+x_data[i]['word_pos_tag']\n",
    "    else:\n",
    "        x_data[i][POS_IPU_BIGRAM_LEFT] = x_data[i-1]['word_pos_tag']+\"/\"+x_data[i]['word_pos_tag']\n",
    "    # to the right\n",
    "    if x_data[i]['word_number_in_ipu'] == x_data[i]['total_number_of_words_in_ipu']:\n",
    "        x_data[i][POS_IPU_BIGRAM_RIGHT] = x_data[i]['word_pos_tag']+\"/END\"\n",
    "    else:\n",
    "        x_data[i][POS_IPU_BIGRAM_RIGHT] = x_data[i]['word_pos_tag']+\"/\"+x_data[i+1]['word_pos_tag']"
   ]
  },
  {
   "cell_type": "code",
   "execution_count": 33,
   "metadata": {},
   "outputs": [
    {
     "name": "stdout",
     "output_type": "stream",
     "text": [
      "################################### <class 'sklearn.naive_bayes.MultinomialNB'> #########################################\n",
      "Fitting 3 folds for each of 24 candidates, totalling 72 fits\n"
     ]
    },
    {
     "name": "stderr",
     "output_type": "stream",
     "text": [
      "[Parallel(n_jobs=-1)]: Done  42 tasks      | elapsed:   27.4s\n",
      "[Parallel(n_jobs=-1)]: Done  72 out of  72 | elapsed:   53.5s finished\n"
     ]
    },
    {
     "name": "stdout",
     "output_type": "stream",
     "text": [
      "Train time: 55.470s\n",
      "Best score: 0.785\n",
      "\tclf__alpha: 0.1\n",
      "\tclf__fit_prior: True\n",
      "\tselector__percentile: 90\n",
      "################################### <class 'sklearn.svm.classes.LinearSVC'> #########################################\n",
      "Fitting 3 folds for each of 18 candidates, totalling 54 fits\n"
     ]
    },
    {
     "name": "stderr",
     "output_type": "stream",
     "text": [
      "[Parallel(n_jobs=-1)]: Done  42 tasks      | elapsed:  2.3min\n",
      "[Parallel(n_jobs=-1)]: Done  54 out of  54 | elapsed:  2.8min finished\n"
     ]
    },
    {
     "name": "stdout",
     "output_type": "stream",
     "text": [
      "Train time: 179.319s\n",
      "Best score: 0.857\n",
      "\tclf__C: 1\n",
      "\tclf__loss: 'hinge'\n",
      "\tclf__penalty: 'l2'\n",
      "\tselector__percentile: 95\n",
      "################################### <class 'sklearn.linear_model.logistic.LogisticRegression'> #########################################\n",
      "Fitting 3 folds for each of 36 candidates, totalling 108 fits\n"
     ]
    },
    {
     "name": "stderr",
     "output_type": "stream",
     "text": [
      "[Parallel(n_jobs=-1)]: Done  42 tasks      | elapsed:  1.2min\n",
      "[Parallel(n_jobs=-1)]: Done 108 out of 108 | elapsed:  3.0min finished\n"
     ]
    },
    {
     "name": "stdout",
     "output_type": "stream",
     "text": [
      "Train time: 185.781s\n",
      "Best score: 0.856\n",
      "\tclf__C: 1\n",
      "\tclf__fit_intercept: False\n",
      "\tclf__penalty: 'l1'\n",
      "\tselector__percentile: 95\n"
     ]
    }
   ],
   "source": [
    "# With dist features\n",
    "for (clf, param_grid) in clf_map:\n",
    "    classify_my_model(clf, param_grid)"
   ]
  },
  {
   "cell_type": "code",
   "execution_count": 24,
   "metadata": {},
   "outputs": [],
   "source": [
    "for i in range(len(x_data)):\n",
    "    del x_data[i][POS_IPU_BIGRAM_LEFT]\n",
    "    del x_data[i][POS_IPU_BIGRAM_RIGHT]"
   ]
  },
  {
   "cell_type": "markdown",
   "metadata": {},
   "source": [
    "## POS Bigram, segmented by TURN"
   ]
  },
  {
   "cell_type": "code",
   "execution_count": 12,
   "metadata": {},
   "outputs": [],
   "source": [
    "# Using both turn and ipu pos bigrams\n",
    "POS_TURN_BIGRAM_LEFT = \"POS_TURN_BIGRAM_LEFT\"\n",
    "POS_TURN_BIGRAM_RIGHT = \"POS_TURN_BIGRAM_RIGHT\"\n",
    "for i in range(len(x_data)):\n",
    "    # to the left\n",
    "    if x_data[i]['word_number_in_turn'] == '1':\n",
    "        x_data[i][POS_TURN_BIGRAM_LEFT] = 'BEGIN/'+x_data[i]['word_pos_tag']\n",
    "    else:\n",
    "        x_data[i][POS_TURN_BIGRAM_LEFT] = x_data[i-1]['word_pos_tag']+\"/\"+x_data[i]['word_pos_tag']\n",
    "    # to the right\n",
    "    if x_data[i]['word_number_in_turn'] == x_data[i]['total_number_of_words_in_turn']:\n",
    "        x_data[i][POS_TURN_BIGRAM_RIGHT] = x_data[i]['word_pos_tag']+\"/END\"\n",
    "    else:\n",
    "        x_data[i][POS_TURN_BIGRAM_RIGHT] = x_data[i]['word_pos_tag']+\"/\"+x_data[i+1]['word_pos_tag']"
   ]
  },
  {
   "cell_type": "code",
   "execution_count": 8,
   "metadata": {},
   "outputs": [
    {
     "ename": "TypeError",
     "evalue": "classify_my_model() missing 1 required positional argument: 'model_name'",
     "output_type": "error",
     "traceback": [
      "\u001b[0;31m---------------------------------------------------------------------------\u001b[0m",
      "\u001b[0;31mTypeError\u001b[0m                                 Traceback (most recent call last)",
      "\u001b[0;32m<ipython-input-8-65e1c6eb627d>\u001b[0m in \u001b[0;36m<module>\u001b[0;34m()\u001b[0m\n\u001b[1;32m      1\u001b[0m \u001b[0;32mfor\u001b[0m \u001b[0;34m(\u001b[0m\u001b[0mclf\u001b[0m\u001b[0;34m,\u001b[0m \u001b[0mparam_grid\u001b[0m\u001b[0;34m)\u001b[0m \u001b[0;32min\u001b[0m \u001b[0mclf_map\u001b[0m\u001b[0;34m:\u001b[0m\u001b[0;34m\u001b[0m\u001b[0m\n\u001b[0;32m----> 2\u001b[0;31m     \u001b[0mclassify_my_model\u001b[0m\u001b[0;34m(\u001b[0m\u001b[0mclf\u001b[0m\u001b[0;34m,\u001b[0m \u001b[0mparam_grid\u001b[0m\u001b[0;34m)\u001b[0m\u001b[0;34m\u001b[0m\u001b[0m\n\u001b[0m",
      "\u001b[0;31mTypeError\u001b[0m: classify_my_model() missing 1 required positional argument: 'model_name'"
     ]
    }
   ],
   "source": [
    "for (clf, param_grid) in clf_map:\n",
    "    classify_my_model(clf, param_grid)"
   ]
  },
  {
   "cell_type": "code",
   "execution_count": 29,
   "metadata": {},
   "outputs": [],
   "source": [
    "for i in range(len(x_data)):\n",
    "    del x_data[i][POS_TURN_BIGRAM_LEFT]\n",
    "    del x_data[i][POS_TURN_BIGRAM_RIGHT]"
   ]
  },
  {
   "cell_type": "markdown",
   "metadata": {},
   "source": [
    "## Segmented by IPU is better than turn. Let's add the feature of whether word ends with a hyphen (denotes a stutter)"
   ]
  },
  {
   "cell_type": "code",
   "execution_count": 9,
   "metadata": {},
   "outputs": [],
   "source": [
    "IS_STUTTER = \"IS_STUTTER\"\n",
    "for i in range(len(x_data)):\n",
    "    x_data[i][IS_STUTTER] = x_data[i]['word'][-1] == '-'"
   ]
  },
  {
   "cell_type": "code",
   "execution_count": 45,
   "metadata": {},
   "outputs": [
    {
     "name": "stdout",
     "output_type": "stream",
     "text": [
      "################################### <class 'sklearn.naive_bayes.MultinomialNB'> #########################################\n",
      "Fitting 3 folds for each of 24 candidates, totalling 72 fits\n"
     ]
    },
    {
     "name": "stderr",
     "output_type": "stream",
     "text": [
      "[Parallel(n_jobs=-1)]: Done  42 tasks      | elapsed:   43.1s\n",
      "[Parallel(n_jobs=-1)]: Done  72 out of  72 | elapsed:  1.2min finished\n"
     ]
    },
    {
     "name": "stdout",
     "output_type": "stream",
     "text": [
      "Train time: 72.094s\n",
      "Best score: 0.786\n",
      "\tclf__alpha: 0.1\n",
      "\tclf__fit_prior: True\n",
      "\tselector__percentile: 100\n",
      "################################### <class 'sklearn.svm.classes.LinearSVC'> #########################################\n",
      "Fitting 3 folds for each of 18 candidates, totalling 54 fits\n"
     ]
    },
    {
     "name": "stderr",
     "output_type": "stream",
     "text": [
      "[Parallel(n_jobs=-1)]: Done  42 tasks      | elapsed:  3.1min\n",
      "[Parallel(n_jobs=-1)]: Done  54 out of  54 | elapsed:  3.8min finished\n"
     ]
    },
    {
     "name": "stdout",
     "output_type": "stream",
     "text": [
      "Train time: 243.040s\n",
      "Best score: 0.856\n",
      "\tclf__C: 1\n",
      "\tclf__loss: 'hinge'\n",
      "\tclf__penalty: 'l2'\n",
      "\tselector__percentile: 100\n",
      "################################### <class 'sklearn.linear_model.logistic.LogisticRegression'> #########################################\n",
      "Fitting 3 folds for each of 36 candidates, totalling 108 fits\n"
     ]
    },
    {
     "name": "stderr",
     "output_type": "stream",
     "text": [
      "[Parallel(n_jobs=-1)]: Done  42 tasks      | elapsed:  1.4min\n",
      "[Parallel(n_jobs=-1)]: Done 108 out of 108 | elapsed:  3.3min finished\n"
     ]
    },
    {
     "name": "stdout",
     "output_type": "stream",
     "text": [
      "Train time: 205.886s\n",
      "Best score: 0.860\n",
      "\tclf__C: 1\n",
      "\tclf__fit_intercept: True\n",
      "\tclf__penalty: 'l1'\n",
      "\tselector__percentile: 95\n"
     ]
    }
   ],
   "source": [
    "for (clf, param_grid) in clf_map:\n",
    "    classify_my_model(clf, param_grid)"
   ]
  },
  {
   "cell_type": "markdown",
   "metadata": {},
   "source": [
    "# Segmented by TURN trigram as well?"
   ]
  },
  {
   "cell_type": "code",
   "execution_count": 13,
   "metadata": {},
   "outputs": [],
   "source": [
    "POS_IPU_TRIGRAM = \"POS_TURN_TRIGRAM\"\n",
    "for i in range(len(x_data)):\n",
    "    # to the left\n",
    "    left = \"BEGIN\"\n",
    "    if x_data[i]['word_number_in_turn'] != '1':\n",
    "        left = x_data[i-1]['word_pos_tag']\n",
    "    # to the right\n",
    "    right = \"END\"\n",
    "    if x_data[i]['word_number_in_turn'] != x_data[i]['total_number_of_words_in_turn']:\n",
    "        right = x_data[i+1]['word_pos_tag']\n",
    "    x_data[i][POS_IPU_TRIGRAM] = left+\"/\"+x_data[i]['word']+\"/\"+right"
   ]
  },
  {
   "cell_type": "code",
   "execution_count": 22,
   "metadata": {},
   "outputs": [
    {
     "name": "stdout",
     "output_type": "stream",
     "text": [
      "################################### <class 'sklearn.naive_bayes.MultinomialNB'> #########################################\n",
      "Fitting 3 folds for each of 24 candidates, totalling 72 fits\n"
     ]
    },
    {
     "name": "stderr",
     "output_type": "stream",
     "text": [
      "[Parallel(n_jobs=-1)]: Done  42 tasks      | elapsed:   37.7s\n",
      "[Parallel(n_jobs=-1)]: Done  72 out of  72 | elapsed:   56.8s finished\n"
     ]
    },
    {
     "name": "stdout",
     "output_type": "stream",
     "text": [
      "Train time: 58.298s\n",
      "Best score: 0.714\n",
      "\tclf__alpha: 0.01\n",
      "\tclf__fit_prior: True\n",
      "\tselector__percentile: 100\n",
      "################################### <class 'sklearn.svm.classes.LinearSVC'> #########################################\n",
      "Fitting 3 folds for each of 18 candidates, totalling 54 fits\n"
     ]
    },
    {
     "name": "stderr",
     "output_type": "stream",
     "text": [
      "[Parallel(n_jobs=-1)]: Done  42 tasks      | elapsed:  2.9min\n",
      "[Parallel(n_jobs=-1)]: Done  54 out of  54 | elapsed:  3.5min finished\n"
     ]
    },
    {
     "name": "stdout",
     "output_type": "stream",
     "text": [
      "Train time: 221.646s\n",
      "Best score: 0.744\n",
      "\tclf__C: 1\n",
      "\tclf__loss: 'hinge'\n",
      "\tclf__penalty: 'l2'\n",
      "\tselector__percentile: 95\n",
      "################################### <class 'sklearn.linear_model.logistic.LogisticRegression'> #########################################\n",
      "Fitting 3 folds for each of 36 candidates, totalling 108 fits\n"
     ]
    },
    {
     "name": "stderr",
     "output_type": "stream",
     "text": [
      "[Parallel(n_jobs=-1)]: Done  42 tasks      | elapsed:  1.1min\n",
      "[Parallel(n_jobs=-1)]: Done 108 out of 108 | elapsed:  3.8min finished\n"
     ]
    },
    {
     "name": "stdout",
     "output_type": "stream",
     "text": [
      "Train time: 232.048s\n",
      "Best score: 0.754\n",
      "\tclf__C: 1\n",
      "\tclf__fit_intercept: False\n",
      "\tclf__penalty: 'l1'\n",
      "\tselector__percentile: 95\n"
     ]
    }
   ],
   "source": [
    "for (clf, param_grid) in clf_map:\n",
    "    classify_my_model(clf, param_grid, 'turn_trigram')"
   ]
  },
  {
   "cell_type": "markdown",
   "metadata": {},
   "source": [
    "#  Adding syntactic features"
   ]
  },
  {
   "cell_type": "code",
   "execution_count": 14,
   "metadata": {},
   "outputs": [],
   "source": [
    "import regex as re\n",
    "from spacy.tokenizer import Tokenizer\n",
    "nlp.tokenizer = Tokenizer(nlp.vocab, token_match=re.compile(r\"'\").match)"
   ]
  },
  {
   "cell_type": "code",
   "execution_count": 20,
   "metadata": {},
   "outputs": [],
   "source": [
    "SIZE_SUBTREE = \"SIZE_SUBTREE\"\n",
    "NUM_SIBLINGS = \"NUM_SIBLINGS\"\n",
    "# Because we can't assume that every turn contains a fully connected dependency parse, we can treat distance as either 1, 2, or 3 (meaning 2 or more)\n",
    "# dist = 0 when this term is last term\n",
    "# dist = 1 when next term is head or a child of current term\n",
    "# else dist = 2 when there is overlap between (current term's head and children) and (next term's head and children)\n",
    "# else dist = 3\n",
    "ARC_DIST_NEXT = \"ARC_DIST_NEXT\"\n",
    "FUNC = \"FUNC\"\n",
    "def subtree_size(token):\n",
    "    return sum([subtree_size(child) for child in token.children])\n",
    "def num_siblings(token):\n",
    "    return len(list(token.head.children))\n",
    "def arc_dist(token, next_token):\n",
    "    if not next_token: return 0\n",
    "    elif next_token.text == token.head.text or next_token.text in [a.text for a in token.children]: return 1\n",
    "    elif any([a.text in [b.text for b in list(token.children)+[token.head]] for a in list(next_token.children)+[next_token.head]]): return 2\n",
    "    else: return 3\n",
    "def get_func(token):\n",
    "    if \"SUBJ\" in token.dep_: return 0\n",
    "    elif \"DOBJ\" in token.dep_: return 1\n",
    "    elif \"POBJ\" in token.dep_: return 2\n",
    "    else: return 3\n",
    "# set these features to 0 by default\n",
    "for i in range(len(x_data)):\n",
    "    x_data[i][SIZE_SUBTREE] = '-1'\n",
    "    x_data[i][NUM_SIBLINGS] = '-1'\n",
    "    x_data[i][ARC_DIST_NEXT] = '-1'\n",
    "    x_data[i][FUNC] = '-1'\n",
    "for i in range(len(x_data)):\n",
    "    if x_data[i]['word_number_in_turn'] == '1':\n",
    "        # figure out the current turn\n",
    "        turn = ' '.join([word['word'] for word in x_data[i:i+int(x_data[i]['total_number_of_words_in_turn'])]])\n",
    "#         print(turn)\n",
    "        doc = nlp(turn)\n",
    "        for j, token in enumerate(doc):\n",
    "#             print(token)\n",
    "            next_token = doc[i+1] if i+1<len(doc) else None\n",
    "            x_data[i+j][SIZE_SUBTREE] = str(subtree_size(token))\n",
    "            x_data[i+j][NUM_SIBLINGS] = str(num_siblings(token))\n",
    "            x_data[i+j][ARC_DIST_NEXT] = str(arc_dist(token, next_token))\n",
    "            x_data[i+j][FUNC] = str(get_func(token))"
   ]
  },
  {
   "cell_type": "code",
   "execution_count": 21,
   "metadata": {
    "scrolled": true
   },
   "outputs": [
    {
     "name": "stdout",
     "output_type": "stream",
     "text": [
      "################################### <class 'sklearn.naive_bayes.MultinomialNB'> #########################################\n",
      "Fitting 3 folds for each of 24 candidates, totalling 72 fits\n"
     ]
    },
    {
     "name": "stderr",
     "output_type": "stream",
     "text": [
      "[Parallel(n_jobs=-1)]: Done  42 tasks      | elapsed:   42.8s\n",
      "[Parallel(n_jobs=-1)]: Done  72 out of  72 | elapsed:  1.2min finished\n"
     ]
    },
    {
     "name": "stdout",
     "output_type": "stream",
     "text": [
      "Train time: 74.316s\n",
      "Best score: 0.713\n",
      "\tclf__alpha: 0.01\n",
      "\tclf__fit_prior: True\n",
      "\tselector__percentile: 95\n",
      "################################### <class 'sklearn.svm.classes.LinearSVC'> #########################################\n",
      "Fitting 3 folds for each of 18 candidates, totalling 54 fits\n"
     ]
    },
    {
     "name": "stderr",
     "output_type": "stream",
     "text": [
      "[Parallel(n_jobs=-1)]: Done  42 tasks      | elapsed:  3.4min\n",
      "[Parallel(n_jobs=-1)]: Done  54 out of  54 | elapsed:  4.1min finished\n"
     ]
    },
    {
     "name": "stdout",
     "output_type": "stream",
     "text": [
      "Train time: 261.894s\n",
      "Best score: 0.745\n",
      "\tclf__C: 1\n",
      "\tclf__loss: 'hinge'\n",
      "\tclf__penalty: 'l2'\n",
      "\tselector__percentile: 95\n",
      "################################### <class 'sklearn.linear_model.logistic.LogisticRegression'> #########################################\n",
      "Fitting 3 folds for each of 36 candidates, totalling 108 fits\n"
     ]
    },
    {
     "name": "stderr",
     "output_type": "stream",
     "text": [
      "[Parallel(n_jobs=-1)]: Done  42 tasks      | elapsed:  1.7min\n",
      "[Parallel(n_jobs=-1)]: Done 108 out of 108 | elapsed:  5.7min finished\n"
     ]
    },
    {
     "name": "stdout",
     "output_type": "stream",
     "text": [
      "Train time: 345.352s\n",
      "Best score: 0.752\n",
      "\tclf__C: 1\n",
      "\tclf__fit_intercept: True\n",
      "\tclf__penalty: 'l2'\n",
      "\tselector__percentile: 100\n"
     ]
    }
   ],
   "source": [
    "for (clf, param_grid) in clf_map:\n",
    "    classify_my_model(clf, param_grid, 'syntactic')"
   ]
  },
  {
   "cell_type": "code",
   "execution_count": 18,
   "metadata": {},
   "outputs": [],
   "source": [
    "# Find most significant features\n",
    "model = pickle.load(open('syntactic_best_LogisticRegression.pkl', 'rb'))\n"
   ]
  },
  {
   "cell_type": "code",
   "execution_count": 19,
   "metadata": {},
   "outputs": [
    {
     "data": {
      "text/plain": [
       "[('dictvec',\n",
       "  DictVectorizer(dtype=<class 'numpy.float64'>, separator='=', sort=True,\n",
       "          sparse=True)),\n",
       " ('selector', SelectPercentile(percentile=100,\n",
       "           score_func=<function f_classif at 0x10a03fd08>)),\n",
       " ('clf',\n",
       "  LogisticRegression(C=1, class_weight=None, dual=False, fit_intercept=False,\n",
       "            intercept_scaling=1, max_iter=100, multi_class='ovr', n_jobs=1,\n",
       "            penalty='l2', random_state=None, solver='liblinear', tol=0.0001,\n",
       "            verbose=0, warm_start=False))]"
      ]
     },
     "execution_count": 19,
     "metadata": {},
     "output_type": "execute_result"
    }
   ],
   "source": [
    "model.steps"
   ]
  },
  {
   "cell_type": "code",
   "execution_count": 20,
   "metadata": {},
   "outputs": [],
   "source": [
    "def show_most_informative_features(vectorizer, clf, n=20):\n",
    "    feature_names = vectorizer.get_feature_names()\n",
    "    coefs_with_fns = sorted(zip(clf.coef_[0], feature_names))\n",
    "    top = zip(coefs_with_fns[:n], coefs_with_fns[:-(n + 1):-1])\n",
    "    for (coef_1, fn_1), (coef_2, fn_2) in top:\n",
    "        print(\"\\t%.4f\\t%-15s\\t\\t%.4f\\t%-15s\" % (coef_1, fn_1, coef_2, fn_2))\n",
    "        \n",
    "def show_least_informative_features(vectorizer, clf, n=20):\n",
    "    feature_names = vectorizer.get_feature_names()\n",
    "    coefs_with_fns = sorted(zip(clf.coef_[0], feature_names), key=lambda x: abs(x[0]))\n",
    "    top = coefs_with_fns[:n]\n",
    "    for (coef_1, fn_1) in top:\n",
    "        print(\"\\t%.4f\\t%-15s\" % (coef_1, fn_1))"
   ]
  },
  {
   "cell_type": "code",
   "execution_count": 21,
   "metadata": {},
   "outputs": [
    {
     "name": "stdout",
     "output_type": "stream",
     "text": [
      "\t-2.5428\tIS_STUTTER     \t\t5.0231\tPOS_TURN_BIGRAM_RIGHT=NN/END\n",
      "\t-2.2386\tPOS_TURN_BIGRAM_RIGHT=CD/NNS\t\t4.4292\tPOS_TURN_BIGRAM_RIGHT=RB/END\n",
      "\t-2.0689\tword=kind      \t\t4.2421\tPOS_TURN_BIGRAM_RIGHT=JJ/END\n",
      "\t-2.0527\tPOS_TURN_BIGRAM_RIGHT=NNP/NNP\t\t4.1895\tPOS_TURN_BIGRAM_RIGHT=PRP/END\n",
      "\t-1.9893\tPOS_TURN_BIGRAM_RIGHT=JJ/NN\t\t3.9746\tPOS_TURN_BIGRAM_RIGHT=VBP/END\n",
      "\t-1.9709\tPOS_TURN_BIGRAM_RIGHT=PRP/MD\t\t3.8891\tPOS_TURN_BIGRAM_RIGHT=NNS/END\n",
      "\t-1.8493\tPOS_TURN_TRIGRAM=UH/yeah/UH\t\t3.7432\tPOS_TURN_BIGRAM_RIGHT=VB/END\n",
      "\t-1.7821\tword=I         \t\t3.5574\tPOS_TURN_BIGRAM_RIGHT=VBZ/END\n",
      "\t-1.7333\tword=pretty    \t\t3.4233\tPOS_TURN_BIGRAM_RIGHT=IN/END\n",
      "\t-1.7118\tPOS_TURN_TRIGRAM=DT/bottom/UH\t\t3.4085\tPOS_TURN_BIGRAM_RIGHT=UH/END\n",
      "\t-1.6780\tPOS_TURN_BIGRAM_RIGHT=VBZ/RP\t\t3.3025\tPOS_TURN_BIGRAM_RIGHT=DT/END\n",
      "\t-1.6732\tPOS_TURN_BIGRAM_RIGHT=DT/CD\t\t3.2433\tPOS_TURN_BIGRAM_RIGHT=VBN/END\n",
      "\t-1.6731\tPOS_TURN_BIGRAM_RIGHT=IN/NN\t\t3.1632\tPOS_TURN_BIGRAM_RIGHT=VBG/END\n",
      "\t-1.6590\tPOS_TURN_BIGRAM_RIGHT=JJ/NNS\t\t2.9534\tPOS_TURN_BIGRAM_RIGHT=NNP/END\n",
      "\t-1.6586\tPOS_TURN_BIGRAM_RIGHT=CC/RB\t\t2.9514\tPOS_TURN_BIGRAM_RIGHT=RP/END\n",
      "\t-1.6268\tPOS_TURN_BIGRAM_RIGHT=DT/NNS\t\t2.9221\tPOS_TURN_BIGRAM_RIGHT=VBD/END\n",
      "\t-1.5962\tword=just      \t\t2.8261\tPOS_TURN_BIGRAM_RIGHT=CC/END\n",
      "\t-1.5417\tword=an        \t\t2.5673\tPOS_TURN_BIGRAM_RIGHT=WRB/END\n",
      "\t-1.5146\tPOS_TURN_BIGRAM_RIGHT=IN/PRP\t\t2.3988\tPOS_TURN_BIGRAM_RIGHT=CD/END\n",
      "\t-1.4974\tPOS_TURN_TRIGRAM=RB/like/END\t\t2.3185\tPOS_TURN_BIGRAM_RIGHT=JJR/END\n"
     ]
    }
   ],
   "source": [
    "show_most_informative_features(model.steps[0][1], model.steps[2][1])"
   ]
  },
  {
   "cell_type": "code",
   "execution_count": 22,
   "metadata": {
    "scrolled": true
   },
   "outputs": [
    {
     "name": "stdout",
     "output_type": "stream",
     "text": [
      "\t0.0001\tPOS_TURN_BIGRAM_RIGHT=XX/PRP\n",
      "\t0.0003\tPOS_TURN_TRIGRAM=NNS/habit/END\n",
      "\t-0.0006\tPOS_TURN_BIGRAM_RIGHT=IN/IN\n",
      "\t-0.0006\tPOS_TURN_TRIGRAM=BEGIN/y-/MD\n",
      "\t-0.0006\tword_number_in_task=565\n",
      "\t-0.0007\tPOS_TURN_TRIGRAM=BEGIN/um/UH\n",
      "\t-0.0008\tPOS_TURN_TRIGRAM=UH/u-/MD\n",
      "\t-0.0008\tPOS_TURN_TRIGRAM=CC/th-/NN\n",
      "\t-0.0008\tPOS_TURN_TRIGRAM=VB/th-/MD\n",
      "\t-0.0008\tPOS_TURN_TRIGRAM=BEGIN/i-/VBZ\n",
      "\t-0.0008\tPOS_TURN_TRIGRAM=VBZ/y-/VBZ\n",
      "\t0.0009\tPOS_TURN_TRIGRAM=NNS/ear/END\n",
      "\t-0.0009\tPOS_TURN_TRIGRAM=VBZ/i-/VBZ\n",
      "\t0.0010\tword=shorter   \n",
      "\t-0.0010\tPOS_TURN_TRIGRAM=VBP/i-/VBP\n",
      "\t-0.0011\tPOS_TURN_TRIGRAM=VBG/th-/XX\n",
      "\t-0.0011\tPOS_TURN_TRIGRAM=DT/th-/NN\n",
      "\t0.0012\tword=bottle    \n",
      "\t-0.0012\tPOS_TURN_TRIGRAM=VB/I/MD\n",
      "\t-0.0013\tPOS_TURN_TRIGRAM=UH/sh-/VBP\n",
      "\t-0.0013\tPOS_TURN_TRIGRAM=NN/the/UH\n",
      "\t-0.0013\tPOS_TURN_TRIGRAM=WRB/I/MD\n",
      "\t0.0013\tword_number_in_task=131\n",
      "\t-0.0013\tPOS_TURN_BIGRAM_LEFT=UH/NNP\n",
      "\t0.0014\tPOS_TURN_TRIGRAM=VBD/leaf/END\n",
      "\t0.0015\ttotal_number_of_words_in_task=20\n",
      "\t-0.0015\tPOS_TURN_TRIGRAM=RB/o-/XX\n",
      "\t-0.0015\tword_number_in_task=386\n",
      "\t-0.0015\tword_number_in_task=587\n",
      "\t-0.0015\tPOS_TURN_TRIGRAM=NN/i-/VBZ\n",
      "\t-0.0016\tPOS_TURN_TRIGRAM=WP/I/VBD\n",
      "\t-0.0016\tPOS_TURN_TRIGRAM=BEGIN/you/VBD\n",
      "\t-0.0016\tPOS_TURN_TRIGRAM=PRP/i-/VBZ\n",
      "\t-0.0017\tword_number_in_turn=14\n",
      "\t-0.0019\tPOS_TURN_TRIGRAM=XX/th-/XX\n",
      "\t0.0019\ttotal_number_of_words_in_turn=35\n",
      "\t-0.0019\tword_number_in_task=705\n",
      "\t-0.0020\tword=oop       \n",
      "\t-0.0020\tPOS_TURN_TRIGRAM=UH/be-/DT\n",
      "\t-0.0020\tPOS_TURN_BIGRAM_LEFT=UH/TO\n",
      "\t-0.0020\tPOS_TURN_TRIGRAM=UH/I/VB\n",
      "\t-0.0020\tPOS_TURN_TRIGRAM=VBZ/you/MD\n",
      "\t-0.0021\tPOS_TURN_TRIGRAM=IN/it/IN\n",
      "\t0.0021\tPOS_TURN_TRIGRAM=NNS/touch/END\n",
      "\t0.0021\tPOS_TURN_TRIGRAM=NNS/shirt/END\n",
      "\t-0.0021\tPOS_TURN_TRIGRAM=WRB/you/MD\n",
      "\t-0.0021\tPOS_TURN_BIGRAM_LEFT=MD/TO\n",
      "\t-0.0021\tPOS_TURN_TRIGRAM=MD/t-/VB\n",
      "\t-0.0022\tPOS_TURN_TRIGRAM=PRP/I/VBP_RB\n",
      "\t-0.0023\tPOS_TURN_TRIGRAM=BEGIN/I/MD_RB\n",
      "\t-0.0023\tPOS_TURN_TRIGRAM=RB/j-/VB\n",
      "\t-0.0023\tPOS_TURN_TRIGRAM=XX/th-/EX_BES\n",
      "\t0.0023\tPOS_TURN_TRIGRAM=NN/gotcha/END\n",
      "\t0.0024\tPOS_TURN_TRIGRAM=NNS/knee/END\n",
      "\t-0.0024\tPOS_TURN_TRIGRAM=MD/y-/VB\n",
      "\t-0.0024\tPOS_TURN_TRIGRAM=RB/s-/XX\n",
      "\t-0.0024\tPOS_TURN_TRIGRAM=WDT/I/VBP\n",
      "\t-0.0024\tPOS_TURN_BIGRAM_LEFT=UH/UH_XX\n",
      "\t-0.0024\tPOS_TURN_TRIGRAM=UH/I'm-/PRP_VBP\n",
      "\t0.0025\tPOS_TURN_TRIGRAM=PRP_VBP/okay/END\n",
      "\t-0.0025\tPOS_TURN_TRIGRAM=WDT/you/MD\n",
      "\t-0.0025\tPOS_TURN_TRIGRAM=XX/I/VBD\n",
      "\t-0.0025\tPOS_TURN_TRIGRAM=RP/I/VBP\n",
      "\t0.0026\tPOS_TURN_TRIGRAM=DT/sense/END\n",
      "\t-0.0026\tPOS_TURN_TRIGRAM=VBP/I/MD\n",
      "\t0.0026\tPOS_TURN_TRIGRAM=DT/airplane/END\n",
      "\t-0.0026\tPOS_TURN_TRIGRAM=NN/I/VBD\n",
      "\t0.0027\tPOS_TURN_TRIGRAM=NN/nail/END\n",
      "\t-0.0027\tPOS_TURN_TRIGRAM=PRP_BES/uh-/PRP_VBP\n",
      "\t-0.0027\tPOS_TURN_TRIGRAM=UH/th-/IN\n",
      "\t0.0028\tPOS_TURN_TRIGRAM=JJ/hat/END\n",
      "\t-0.0028\tPOS_TURN_TRIGRAM=DT/li-/DT\n",
      "\t0.0028\tPOS_TURN_TRIGRAM=VBG/about/UH\n",
      "\t-0.0028\tPOS_TURN_TRIGRAM=XX/o-/XX\n",
      "\t-0.0028\tPOS_TURN_TRIGRAM=NNS/i-/PRP\n",
      "\t-0.0028\tPOS_TURN_TRIGRAM=UH/we/MD\n",
      "\t-0.0029\tPOS_TURN_TRIGRAM=VBZ/I/VBD\n",
      "\t-0.0029\tPOS_TURN_BIGRAM_LEFT=BEGIN/UH_XX\n",
      "\t-0.0029\tPOS_TURN_TRIGRAM=BEGIN/I'm-/PRP_VBP\n",
      "\t0.0029\tPOS_TURN_TRIGRAM=DT/habit/END\n",
      "\t-0.0029\tPOS_TURN_TRIGRAM=NN/backgrou-/DT\n",
      "\t-0.0029\tword=backgrou- \n",
      "\t-0.0029\tPOS_TURN_TRIGRAM=BEGIN/d-/IN\n",
      "\t-0.0029\tPOS_TURN_TRIGRAM=BEGIN/i-/PRP\n",
      "\t-0.0029\tPOS_TURN_BIGRAM_LEFT=JJR/PRP_VBP\n",
      "\t-0.0029\tPOS_TURN_TRIGRAM=JJR/I'm/VBG\n",
      "\t0.0030\tPOS_TURN_TRIGRAM=RB/of/IN\n",
      "\t-0.0030\tPOS_TURN_TRIGRAM=PRP_BES/th-/RB\n",
      "\t-0.0030\tPOS_TURN_TRIGRAM=NNP/o-/VBZ\n",
      "\t-0.0030\tPOS_TURN_BIGRAM_RIGHT=PRP/PRP_VBP\n",
      "\t-0.0030\tPOS_TURN_TRIGRAM=RB/y-/PRP_VBP\n",
      "\t-0.0030\tword_number_in_task=752\n",
      "\t-0.0030\tNUM_SIBLINGS=7 \n",
      "\t-0.0031\tPOS_TURN_TRIGRAM=BEGIN/I-/RB\n",
      "\t-0.0031\tPOS_TURN_TRIGRAM=JJ/I/VBP_RB\n",
      "\t0.0031\tPOS_TURN_BIGRAM_LEFT=VBZ/CC\n",
      "\t0.0032\tPOS_TURN_TRIGRAM=DT/plate/END\n",
      "\t-0.0032\tPOS_TURN_BIGRAM_LEFT=VBZ/VBZ\n",
      "\t-0.0032\tPOS_TURN_TRIGRAM=NN/wh-/PRP\n",
      "\t0.0032\tPOS_TURN_TRIGRAM=BEGIN/okay/PRP$\n"
     ]
    }
   ],
   "source": [
    "show_least_informative_features(model.steps[0][1], model.steps[2][1], n=100)"
   ]
  },
  {
   "cell_type": "code",
   "execution_count": 23,
   "metadata": {},
   "outputs": [
    {
     "data": {
      "text/plain": [
       "18465"
      ]
     },
     "execution_count": 23,
     "metadata": {},
     "output_type": "execute_result"
    }
   ],
   "source": [
    "len(model.steps[2][1].coef_[0])"
   ]
  },
  {
   "cell_type": "code",
   "execution_count": 24,
   "metadata": {},
   "outputs": [],
   "source": [
    "from collections import defaultdict\n",
    "def show_feature_importance(vectorizer, clf):\n",
    "    feature_names = vectorizer.get_feature_names()\n",
    "    coefs_with_fns = zip(clf.coef_[0], feature_names)\n",
    "    feat_count = defaultdict(list)\n",
    "    for (coef_1, fn_1) in coefs_with_fns:\n",
    "        feat = fn_1.split('=')[0]\n",
    "        feat_count[feat].append(abs(coef_1))\n",
    "    for feat in feat_count.keys():\n",
    "        print(feat, sum(feat_count[feat])/len(feat_count[feat]))\n",
    "    return feat_count"
   ]
  },
  {
   "cell_type": "code",
   "execution_count": 25,
   "metadata": {},
   "outputs": [
    {
     "name": "stdout",
     "output_type": "stream",
     "text": [
      "NUM_SIBLINGS 0.199572053149\n",
      "word_pos_tag 0.408019113092\n",
      "total_number_of_words_in_task 0.309496163006\n",
      "DIST_END_TURN 0.00737875753485\n",
      "POS_TURN_TRIGRAM 0.220341907694\n",
      "SIZE_SUBTREE 1.00237714681\n",
      "word_number_in_task 0.258834894946\n",
      "word_pos_tag_simplified 0.363137247852\n",
      "POS_TURN_BIGRAM_LEFT 0.236211132068\n",
      "word_number_in_turn 0.264449944861\n",
      "total_number_of_words_in_turn 0.246906147698\n",
      "ARC_DIST_NEXT 0.400950858722\n",
      "POS_TURN_BIGRAM_RIGHT 0.468001736129\n",
      "word_number_of_syllables 0.19979643253\n",
      "word 0.314925537197\n",
      "IS_STUTTER 2.54280789608\n"
     ]
    }
   ],
   "source": [
    "feat_count = show_feature_importance(model.steps[0][1], model.steps[2][1])"
   ]
  },
  {
   "cell_type": "code",
   "execution_count": 26,
   "metadata": {},
   "outputs": [],
   "source": [
    "import matplotlib.pyplot as plt"
   ]
  },
  {
   "cell_type": "code",
   "execution_count": 27,
   "metadata": {
    "scrolled": false
   },
   "outputs": [
    {
     "data": {
      "image/png": "[encoded data removed]",
      "text/plain": [
       "<matplotlib.figure.Figure at 0x11ec26fd0>"
      ]
     },
     "metadata": {},
     "output_type": "display_data"
    },
    {
     "data": {
      "image/png": "[encoded data removed]",
      "text/plain": [
       "<matplotlib.figure.Figure at 0x11f066e10>"
      ]
     },
     "metadata": {},
     "output_type": "display_data"
    },
    {
     "data": {
      "image/png": "[encoded data removed]",
      "text/plain": [
       "<matplotlib.figure.Figure at 0x12070bfd0>"
      ]
     },
     "metadata": {},
     "output_type": "display_data"
    },
    {
     "data": {
      "image/png": "[encoded data removed]",
      "text/plain": [
       "<matplotlib.figure.Figure at 0x120ece780>"
      ]
     },
     "metadata": {},
     "output_type": "display_data"
    },
    {
     "data": {
      "image/png": "[encoded data removed]",
      "text/plain": [
       "<matplotlib.figure.Figure at 0x11eed1ba8>"
      ]
     },
     "metadata": {},
     "output_type": "display_data"
    },
    {
     "data": {
      "image/png": "[encoded data removed]",
      "text/plain": [
       "<matplotlib.figure.Figure at 0x11eed1e10>"
      ]
     },
     "metadata": {},
     "output_type": "display_data"
    },
    {
     "data": {
      "image/png": "[encoded data removed]",
      "text/plain": [
       "<matplotlib.figure.Figure at 0x11f655cc0>"
      ]
     },
     "metadata": {},
     "output_type": "display_data"
    },
    {
     "data": {
      "image/png": "[encoded data removed]",
      "text/plain": [
       "<matplotlib.figure.Figure at 0x11eeb56d8>"
      ]
     },
     "metadata": {},
     "output_type": "display_data"
    },
    {
     "data": {
      "image/png": "[encoded data removed]",
      "text/plain": [
       "<matplotlib.figure.Figure at 0x1201ce4a8>"
      ]
     },
     "metadata": {},
     "output_type": "display_data"
    },
    {
     "data": {
      "image/png": "[encoded data removed]",
      "text/plain": [
       "<matplotlib.figure.Figure at 0x11f5efa90>"
      ]
     },
     "metadata": {},
     "output_type": "display_data"
    },
    {
     "data": {
      "image/png": "[encoded data removed]",
      "text/plain": [
       "<matplotlib.figure.Figure at 0x1201eb5f8>"
      ]
     },
     "metadata": {},
     "output_type": "display_data"
    },
    {
     "data": {
      "image/png": "[encoded data removed]",
      "text/plain": [
       "<matplotlib.figure.Figure at 0x11b1c9828>"
      ]
     },
     "metadata": {},
     "output_type": "display_data"
    },
    {
     "data": {
      "image/png": "[encoded data removed]",
      "text/plain": [
       "<matplotlib.figure.Figure at 0x11f5f8550>"
      ]
     },
     "metadata": {},
     "output_type": "display_data"
    },
    {
     "data": {
      "image/png": "[encoded data removed]",
      "text/plain": [
       "<matplotlib.figure.Figure at 0x11ef1ea90>"
      ]
     },
     "metadata": {},
     "output_type": "display_data"
    },
    {
     "data": {
      "image/png": "[encoded data removed]",
      "text/plain": [
       "<matplotlib.figure.Figure at 0x11eef79e8>"
      ]
     },
     "metadata": {},
     "output_type": "display_data"
    },
    {
     "data": {
      "image/png": "[encoded data removed]",
      "text/plain": [
       "<matplotlib.figure.Figure at 0x11f051470>"
      ]
     },
     "metadata": {},
     "output_type": "display_data"
    }
   ],
   "source": [
    "for feat in feat_count.keys():\n",
    "    hist, bins = np.histogram(feat_count[feat], bins=int(len(feat_count[feat])**0.5))\n",
    "    width = 0.7 * (bins[1] - bins[0])\n",
    "    center = (bins[:-1] + bins[1:]) / 2\n",
    "    plt.bar(center, hist, align='center', width=width)\n",
    "    plt.title(feat)\n",
    "    plt.show()"
   ]
  },
  {
   "cell_type": "code",
   "execution_count": null,
   "metadata": {},
   "outputs": [],
   "source": []
  }
 ],
 "metadata": {
  "kernelspec": {
   "display_name": "Python 3",
   "language": "python",
   "name": "python3"
  },
  "language_info": {
   "codemirror_mode": {
    "name": "ipython",
    "version": 3
   },
   "file_extension": ".py",
   "mimetype": "text/x-python",
   "name": "python",
   "nbconvert_exporter": "python",
   "pygments_lexer": "ipython3",
   "version": "3.5.1"
  }
 },
 "nbformat": 4,
 "nbformat_minor": 1
}
