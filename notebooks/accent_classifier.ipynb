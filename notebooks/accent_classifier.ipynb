{
 "cells": [
  {
   "cell_type": "markdown",
   "metadata": {},
   "source": [
    "## Import Modules"
   ]
  },
  {
   "cell_type": "code",
   "execution_count": 64,
   "metadata": {},
   "outputs": [],
   "source": [
    "import sklearn\n",
    "import numpy as np\n",
    "import pandas as pd\n",
    "from sklearn.model_selection import train_test_split\n",
    "from sklearn.feature_extraction.text import CountVectorizer \n",
    "from sklearn.svm import LinearSVC\n",
    "from sklearn.linear_model import LogisticRegression\n",
    "from sklearn.naive_bayes import BernoulliNB\n",
    "from sklearn.ensemble import RandomForestClassifier as RFC\n",
    "from sklearn.model_selection import GridSearchCV\n",
    "from sklearn.pipeline import Pipeline, FeatureUnion\n",
    "from sklearn.metrics import confusion_matrix, f1_score\n",
    "from sklearn.base import BaseEstimator, TransformerMixin\n",
    "from sklearn.feature_selection import SelectKBest\n",
    "from scipy.sparse import csr_matrix\n",
    "from scipy.sparse import hstack, vstack"
   ]
  },
  {
   "cell_type": "markdown",
   "metadata": {},
   "source": [
    "## Function Definitions"
   ]
  },
  {
   "cell_type": "code",
   "execution_count": 68,
   "metadata": {},
   "outputs": [],
   "source": [
    "df = pd.read_csv(\"../info-status/games-data-20180412.csv\")\n",
    "\n",
    "def get_labels(df):\n",
    "    accent_columns = df[['word_tobi_break_index', 'word_tobi_pitch_accent']]\n",
    "    \n",
    "    y_labels = []\n",
    "    \n",
    "    for index, row in accent_columns.iterrows():\n",
    "        \n",
    "        if row['word_tobi_pitch_accent'] == \"*?\":\n",
    "            y_labels.append(0)\n",
    "            \n",
    "        elif row['word_tobi_pitch_accent'] == \"_\":\n",
    "            y_labels.append(0)\n",
    "            \n",
    "        else:\n",
    "            y_labels.append(1)\n",
    "            \n",
    "    return y_labels\n",
    "\n",
    "def filter_referring_expressions(df, columns):\n",
    "    df = df[['word_pos_tag']]\n",
    "    \n",
    "    df = pd.concat([df, columns], axis=1)\n",
    "    \n",
    "    return df.loc[df['word_pos_tag'] == \"NN\"]\n",
    "\n",
    "def get_input_has_been_mentioned(df):\n",
    "    return (df['Most_Recent_Mention'] > 0).astype(int)\n",
    "\n",
    "def get_input_num_mentions(df):\n",
    "    return np.maximum(df['Number_Of_Coref_Mentions'], 0).fillna(value=0).astype(int)\n",
    "\n",
    "def get_input_far_back_mentioned(df):\n",
    "    return df['word_end_time'] - df['Most_Recent_Mention'].fillna(value=0)\n",
    "\n",
    "def num_tokens_intonational_phrase_prev_mention(df):\n",
    "    df = pd.concat([df['Intonational_Phrase_ID'], get_input_has_been_mentioned(df)], axis=1)\n",
    "    \n",
    "    ip_id = -1\n",
    "    counter = 0\n",
    "    curr_ip_id = 1\n",
    "    ip_series = np.array([])\n",
    "\n",
    "    ip_groups = df.groupby(['Intonational_Phrase_ID'])\n",
    "    \n",
    "\n",
    "    for i in range(1, len(ip_groups.groups) + 1):\n",
    "        counter = 0\n",
    "        for row in ip_groups.get_group(i)['Most_Recent_Mention']:\n",
    "            if row == 1:\n",
    "                counter += 1\n",
    "                \n",
    "        ip_series = np.append(ip_series, np.full(len(ip_groups.get_group(i)), counter))\n",
    "            \n",
    "    \n",
    "    return pd.Series(ip_series, dtype=int).to_frame(\"Num_in_IP_Prev_Mention\")\n",
    "\n",
    "def classifyNB(x_train, x_test, y_train, y_test):\n",
    "    gsclf = BernoulliNB()\n",
    "#     params = {'alpha': np.logspace(-2., 2., 50)}\n",
    "#     gsclf = GridSearchCV(gsclf, params, cv=10, n_jobs=-1)\n",
    "    gsclf.fit(x_train, y_train)\n",
    "    y_pred = gsclf.predict(x_test)\n",
    "\n",
    "    print_accuracy_f1_scores(\"Naive Bayes\", gsclf, x_test, y_test, gsclf.predict(x_test))\n",
    "    \n",
    "def classifyRF(x_train, x_test, y_train, y_test):\n",
    "    clf = RFC()\n",
    "    clf.fit(x_train, y_train)\n",
    "    y_pred = clf.predict(x_test)\n",
    "\n",
    "    print_accuracy_f1_scores(\"Random Forest\", clf, x_test, y_test, clf.predict(x_test))\n",
    "    \n",
    "def classifyLR(x_train, x_test, y_train, y_test):\n",
    "    clf = LogisticRegression()\n",
    "    clf.fit(x_train, y_train)\n",
    "    y_pred = clf.predict(x_test)\n",
    "    \n",
    "    print_accuracy_f1_scores(\"LR\", clf, x_test, y_test, clf.predict(x_test))\n",
    "    \n",
    "def classifySVM(x_train, x_test, y_train, y_test):\n",
    "    gsclf = LinearSVC()\n",
    "    gsclf.fit(x_train, y_train)\n",
    "    y_pred = gsclf.predict(x_test)\n",
    "\n",
    "    print_accuracy_f1_scores(\"SVM\", gsclf, x_test, y_test, gsclf.predict(x_test))\n",
    "    \n",
    "def print_accuracy_f1_scores(classifier_name, clf, x_test, y_test, y_pred):\n",
    "    print(classifier_name + \" Accuracy : {:.2f}%\".format(clf.score(x_test, y_test) * 100))\n",
    "    print(classifier_name + \" F1-Score: {:.2f}\".format(f1_score(y_test, y_pred)))\n",
    "    print(80 * \"=\")\n"
   ]
  },
  {
   "cell_type": "code",
   "execution_count": 69,
   "metadata": {},
   "outputs": [
    {
     "name": "stderr",
     "output_type": "stream",
     "text": [
      "/anaconda3/lib/python3.6/site-packages/ipykernel_launcher.py:32: RuntimeWarning: invalid value encountered in maximum\n"
     ]
    }
   ],
   "source": [
    "columns = pd.concat([get_input_has_been_mentioned(df), \n",
    "                     get_input_num_mentions(df), \n",
    "                     get_input_far_back_mentioned(df),\n",
    "                     num_tokens_intonational_phrase_prev_mention(df),\n",
    "                     pd.Series(get_labels(df))],\n",
    "                     axis=1)\n",
    "\n",
    "filtered_df = filter_referring_expressions(df, columns)"
   ]
  },
  {
   "cell_type": "code",
   "execution_count": 80,
   "metadata": {},
   "outputs": [
    {
     "name": "stdout",
     "output_type": "stream",
     "text": [
      "LR Accuracy : 88.92%\n",
      "LR F1-Score: 0.94\n",
      "================================================================================\n",
      "Naive Bayes Accuracy : 88.92%\n",
      "Naive Bayes F1-Score: 0.94\n",
      "================================================================================\n",
      "Random Forest Accuracy : 88.92%\n",
      "Random Forest F1-Score: 0.94\n",
      "================================================================================\n",
      "SVM Accuracy : 88.92%\n",
      "SVM F1-Score: 0.94\n",
      "================================================================================\n"
     ]
    }
   ],
   "source": [
    "# x_train, x_test, y_train, y_test = train_test_split(filtered_df['Most_Recent_Mention'], filtered_df[1], random_state = 1)\n",
    "# x_train, x_test, y_train, y_test = train_test_split(filtered_df['Number_Of_Coref_Mentions'], filtered_df[1], random_state = 1)\n",
    "# x_train, x_test, y_train, y_test = train_test_split(filtered_df[0], filtered_df[1], random_state = 1)\n",
    "x_train, x_test, y_train, y_test = train_test_split(filtered_df['Num_in_IP_Prev_Mention'], filtered_df[1], random_state = 1)\n",
    "\n",
    "x_train = x_train.values.reshape(-1, 1)\n",
    "x_test = x_test.values.reshape(-1, 1)\n",
    "\n",
    "classifyLR(x_train, x_test, y_train, y_test)\n",
    "classifyNB(x_train, x_test, y_train, y_test)\n",
    "classifyRF(x_train, x_test, y_train, y_test)\n",
    "classifySVM(x_train, x_test, y_train, y_test)"
   ]
  },
  {
   "cell_type": "code",
   "execution_count": 76,
   "metadata": {},
   "outputs": [
    {
     "name": "stdout",
     "output_type": "stream",
     "text": [
      "Majority class baseline classifier accuracy: 88.80%\n"
     ]
    }
   ],
   "source": [
    "label_counts = np.bincount(filtered_df[1])\n",
    "print(\"Majority class baseline classifier accuracy: {:.2f}%\".format((max(label_counts) / np.sum(label_counts)) * 100))"
   ]
  },
  {
   "cell_type": "code",
   "execution_count": null,
   "metadata": {},
   "outputs": [],
   "source": []
  }
 ],
 "metadata": {
  "kernelspec": {
   "display_name": "Python 3",
   "language": "python",
   "name": "python3"
  },
  "language_info": {
   "codemirror_mode": {
    "name": "ipython",
    "version": 3
   },
   "file_extension": ".py",
   "mimetype": "text/x-python",
   "name": "python",
   "nbconvert_exporter": "python",
   "pygments_lexer": "ipython3",
   "version": "3.6.4"
  }
 },
 "nbformat": 4,
 "nbformat_minor": 2
}
